{
 "cells": [
  {
   "cell_type": "markdown",
   "id": "8c11ca29",
   "metadata": {
    "papermill": {
     "duration": 0.005357,
     "end_time": "2025-06-29T14:14:06.007692",
     "exception": false,
     "start_time": "2025-06-29T14:14:06.002335",
     "status": "completed"
    },
    "tags": []
   },
   "source": [
    "> # **بسم الله الرحمن الرحيم** "
   ]
  },
  {
   "cell_type": "markdown",
   "id": "fc8d8dbd",
   "metadata": {
    "papermill": {
     "duration": 0.004124,
     "end_time": "2025-06-29T14:14:06.016432",
     "exception": false,
     "start_time": "2025-06-29T14:14:06.012308",
     "status": "completed"
    },
    "tags": []
   },
   "source": [
    "# Titanic - Survival Prediction \n"
   ]
  },
  {
   "cell_type": "markdown",
   "id": "54d949b0",
   "metadata": {
    "papermill": {
     "duration": 0.004102,
     "end_time": "2025-06-29T14:14:06.025361",
     "exception": false,
     "start_time": "2025-06-29T14:14:06.021259",
     "status": "completed"
    },
    "tags": []
   },
   "source": [
    "# Step 1: Import Libraries\n"
   ]
  },
  {
   "cell_type": "code",
   "execution_count": 1,
   "id": "49ceede2",
   "metadata": {
    "_cell_guid": "b1076dfc-b9ad-4769-8c92-a6c4dae69d19",
    "_uuid": "8f2839f25d086af736a60e9eeb907d3b93b6e0e5",
    "execution": {
     "iopub.execute_input": "2025-06-29T14:14:06.036052Z",
     "iopub.status.busy": "2025-06-29T14:14:06.035639Z",
     "iopub.status.idle": "2025-06-29T14:14:11.299462Z",
     "shell.execute_reply": "2025-06-29T14:14:11.298202Z"
    },
    "papermill": {
     "duration": 5.271577,
     "end_time": "2025-06-29T14:14:11.301305",
     "exception": false,
     "start_time": "2025-06-29T14:14:06.029728",
     "status": "completed"
    },
    "tags": []
   },
   "outputs": [],
   "source": [
    "import pandas as pd\n",
    "import numpy as np\n",
    "import seaborn as sns\n",
    "import matplotlib.pyplot as plt\n",
    "\n",
    "from sklearn.ensemble import RandomForestClassifier\n",
    "from sklearn.model_selection import GridSearchCV, train_test_split, cross_val_score\n",
    "from sklearn.metrics import accuracy_score\n",
    "from sklearn.preprocessing import LabelEncoder\n",
    "\n",
    "import re"
   ]
  },
  {
   "cell_type": "markdown",
   "id": "33ce85e0",
   "metadata": {
    "papermill": {
     "duration": 0.004459,
     "end_time": "2025-06-29T14:14:11.310484",
     "exception": false,
     "start_time": "2025-06-29T14:14:11.306025",
     "status": "completed"
    },
    "tags": []
   },
   "source": [
    "# Step 2: Load the Data\n"
   ]
  },
  {
   "cell_type": "code",
   "execution_count": 2,
   "id": "c7a6493f",
   "metadata": {
    "execution": {
     "iopub.execute_input": "2025-06-29T14:14:11.320602Z",
     "iopub.status.busy": "2025-06-29T14:14:11.320078Z",
     "iopub.status.idle": "2025-06-29T14:14:11.354519Z",
     "shell.execute_reply": "2025-06-29T14:14:11.353370Z"
    },
    "papermill": {
     "duration": 0.041332,
     "end_time": "2025-06-29T14:14:11.356198",
     "exception": false,
     "start_time": "2025-06-29T14:14:11.314866",
     "status": "completed"
    },
    "tags": []
   },
   "outputs": [
    {
     "name": "stdout",
     "output_type": "stream",
     "text": [
      "Train shape: (891, 12), Test shape: (418, 11)\n"
     ]
    }
   ],
   "source": [
    "train = pd.read_csv('train.csv')\n",
    "test = pd.read_csv('test.csv')\n",
    "\n",
    "print(f\"Train shape: {train.shape}, Test shape: {test.shape}\")\n"
   ]
  },
  {
   "cell_type": "markdown",
   "id": "59ace683",
   "metadata": {
    "papermill": {
     "duration": 0.004218,
     "end_time": "2025-06-29T14:14:11.365126",
     "exception": false,
     "start_time": "2025-06-29T14:14:11.360908",
     "status": "completed"
    },
    "tags": []
   },
   "source": [
    "# Step 3: Feature Engineering\n"
   ]
  },
  {
   "cell_type": "code",
   "execution_count": 3,
   "id": "0933b2df",
   "metadata": {
    "execution": {
     "iopub.execute_input": "2025-06-29T14:14:11.375319Z",
     "iopub.status.busy": "2025-06-29T14:14:11.374937Z",
     "iopub.status.idle": "2025-06-29T14:14:11.397171Z",
     "shell.execute_reply": "2025-06-29T14:14:11.395931Z"
    },
    "papermill": {
     "duration": 0.030116,
     "end_time": "2025-06-29T14:14:11.399549",
     "exception": false,
     "start_time": "2025-06-29T14:14:11.369433",
     "status": "completed"
    },
    "tags": []
   },
   "outputs": [],
   "source": [
    "def extract_title(name):\n",
    "    # Extract title from name (Mr, Mrs, Miss, etc.)\n",
    "    match = re.search(r',\\s*([^\\.]+)\\.', name)\n",
    "    if match:\n",
    "        return match.group(1).strip()\n",
    "    return \"\"\n",
    "\n",
    "train['Title'] = train['Name'].apply(extract_title)\n",
    "test['Title'] = test['Name'].apply(extract_title)\n",
    "\n",
    "# Replace rare titles with 'Rare'\n",
    "rare_titles = ['Lady', 'Countess', 'Capt', 'Col', 'Don', 'Dr', 'Major', 'Rev', \n",
    "               'Sir', 'Jonkheer', 'Dona']\n",
    "train['Title'] = train['Title'].replace(rare_titles, 'Rare')\n",
    "test['Title'] = test['Title'].replace(rare_titles, 'Rare')\n",
    "\n",
    "# Group similar titles\n",
    "train['Title'] = train['Title'].replace(['Mlle', 'Ms'], 'Miss')\n",
    "train['Title'] = train['Title'].replace('Mme', 'Mrs')\n",
    "test['Title'] = test['Title'].replace(['Mlle', 'Ms'], 'Miss')\n",
    "test['Title'] = test['Title'].replace('Mme', 'Mrs')"
   ]
  },
  {
   "cell_type": "markdown",
   "id": "e0a8d7f0",
   "metadata": {
    "papermill": {
     "duration": 0.004391,
     "end_time": "2025-06-29T14:14:11.408867",
     "exception": false,
     "start_time": "2025-06-29T14:14:11.404476",
     "status": "completed"
    },
    "tags": []
   },
   "source": [
    "# Step 4: Fill Missing Values"
   ]
  },
  {
   "cell_type": "code",
   "execution_count": 4,
   "id": "3b60d3bd",
   "metadata": {
    "execution": {
     "iopub.execute_input": "2025-06-29T14:14:11.421278Z",
     "iopub.status.busy": "2025-06-29T14:14:11.420922Z",
     "iopub.status.idle": "2025-06-29T14:14:11.446921Z",
     "shell.execute_reply": "2025-06-29T14:14:11.445523Z"
    },
    "papermill": {
     "duration": 0.035064,
     "end_time": "2025-06-29T14:14:11.448884",
     "exception": false,
     "start_time": "2025-06-29T14:14:11.413820",
     "status": "completed"
    },
    "tags": []
   },
   "outputs": [],
   "source": [
    "# Age - fill by median age for each Title group\n",
    "for dataset in [train, test]:\n",
    "    dataset['Age'] = dataset['Age'].fillna(dataset.groupby('Title')['Age'].transform('median'))\n",
    "\n",
    "train['Embarked'] = train['Embarked'].fillna(train['Embarked'].mode()[0])\n",
    "test['Embarked'] = test['Embarked'].fillna(test['Embarked'].mode()[0])\n",
    "test['Fare'] = test['Fare'].fillna(test['Fare'].median())"
   ]
  },
  {
   "cell_type": "markdown",
   "id": "382a4dc5",
   "metadata": {
    "papermill": {
     "duration": 0.004207,
     "end_time": "2025-06-29T14:14:11.457728",
     "exception": false,
     "start_time": "2025-06-29T14:14:11.453521",
     "status": "completed"
    },
    "tags": []
   },
   "source": [
    "# Step 5: Create New Features"
   ]
  },
  {
   "cell_type": "code",
   "execution_count": 5,
   "id": "6ed4687a",
   "metadata": {
    "execution": {
     "iopub.execute_input": "2025-06-29T14:14:11.467951Z",
     "iopub.status.busy": "2025-06-29T14:14:11.467598Z",
     "iopub.status.idle": "2025-06-29T14:14:11.480915Z",
     "shell.execute_reply": "2025-06-29T14:14:11.479814Z"
    },
    "papermill": {
     "duration": 0.020542,
     "end_time": "2025-06-29T14:14:11.482625",
     "exception": false,
     "start_time": "2025-06-29T14:14:11.462083",
     "status": "completed"
    },
    "tags": []
   },
   "outputs": [],
   "source": [
    "# Family size = SibSp + Parch + 1 (self)\n",
    "for dataset in [train, test]:\n",
    "    dataset['FamilySize'] = dataset['SibSp'] + dataset['Parch'] + 1\n",
    "\n",
    "# Is alone feature\n",
    "for dataset in [train, test]:\n",
    "    dataset['IsAlone'] = 1  # Initialize to yes/1 is alone\n",
    "    dataset.loc[dataset['FamilySize'] > 1, 'IsAlone'] = 0\n",
    "\n",
    "# Extract deck from Cabin\n",
    "for dataset in [train, test]:\n",
    "    dataset['Deck'] = dataset['Cabin'].str[0]\n",
    "    dataset['Deck'] = dataset['Deck'].fillna('Unknown')"
   ]
  },
  {
   "cell_type": "markdown",
   "id": "47aafb1a",
   "metadata": {
    "papermill": {
     "duration": 0.004026,
     "end_time": "2025-06-29T14:14:11.491182",
     "exception": false,
     "start_time": "2025-06-29T14:14:11.487156",
     "status": "completed"
    },
    "tags": []
   },
   "source": [
    "\n",
    "# Step 6: Encoding Categorical Features"
   ]
  },
  {
   "cell_type": "code",
   "execution_count": 6,
   "id": "dfc78bdd",
   "metadata": {
    "execution": {
     "iopub.execute_input": "2025-06-29T14:14:11.502302Z",
     "iopub.status.busy": "2025-06-29T14:14:11.501740Z",
     "iopub.status.idle": "2025-06-29T14:14:11.512723Z",
     "shell.execute_reply": "2025-06-29T14:14:11.511582Z"
    },
    "papermill": {
     "duration": 0.018481,
     "end_time": "2025-06-29T14:14:11.514699",
     "exception": false,
     "start_time": "2025-06-29T14:14:11.496218",
     "status": "completed"
    },
    "tags": []
   },
   "outputs": [],
   "source": [
    "# Label encode 'Sex', 'Embarked', 'Title', 'Deck'\n",
    "label_cols = ['Sex', 'Embarked', 'Title', 'Deck']\n",
    "le = LabelEncoder()\n",
    "for col in label_cols:\n",
    "    train[col] = le.fit_transform(train[col])\n",
    "    test[col] = le.transform(test[col])"
   ]
  },
  {
   "cell_type": "markdown",
   "id": "aff32eab",
   "metadata": {
    "papermill": {
     "duration": 0.004208,
     "end_time": "2025-06-29T14:14:11.523714",
     "exception": false,
     "start_time": "2025-06-29T14:14:11.519506",
     "status": "completed"
    },
    "tags": []
   },
   "source": [
    "# Step 7: Drop Unnecessary Columns"
   ]
  },
  {
   "cell_type": "code",
   "execution_count": 7,
   "id": "b028cd1e",
   "metadata": {
    "execution": {
     "iopub.execute_input": "2025-06-29T14:14:11.534022Z",
     "iopub.status.busy": "2025-06-29T14:14:11.533657Z",
     "iopub.status.idle": "2025-06-29T14:14:11.542459Z",
     "shell.execute_reply": "2025-06-29T14:14:11.541459Z"
    },
    "papermill": {
     "duration": 0.016186,
     "end_time": "2025-06-29T14:14:11.544252",
     "exception": false,
     "start_time": "2025-06-29T14:14:11.528066",
     "status": "completed"
    },
    "tags": []
   },
   "outputs": [],
   "source": [
    "drop_cols = ['Name', 'Ticket', 'Cabin']\n",
    "train.drop(drop_cols, axis=1, inplace=True)\n",
    "test.drop(drop_cols, axis=1, inplace=True)"
   ]
  },
  {
   "cell_type": "markdown",
   "id": "bf6d7cd4",
   "metadata": {
    "papermill": {
     "duration": 0.004893,
     "end_time": "2025-06-29T14:14:11.554003",
     "exception": false,
     "start_time": "2025-06-29T14:14:11.549110",
     "status": "completed"
    },
    "tags": []
   },
   "source": [
    "# Step 8: Prepare Training and Test Data\n"
   ]
  },
  {
   "cell_type": "code",
   "execution_count": 8,
   "id": "fbaef628",
   "metadata": {
    "execution": {
     "iopub.execute_input": "2025-06-29T14:14:11.564012Z",
     "iopub.status.busy": "2025-06-29T14:14:11.563675Z",
     "iopub.status.idle": "2025-06-29T14:14:11.714823Z",
     "shell.execute_reply": "2025-06-29T14:14:11.713554Z"
    },
    "papermill": {
     "duration": 0.157988,
     "end_time": "2025-06-29T14:14:11.716338",
     "exception": true,
     "start_time": "2025-06-29T14:14:11.558350",
     "status": "failed"
    },
    "tags": []
   },
   "source": [
    "# Step 1: Drop PassengerId before training\n",
    "X = train.drop(['Survived', 'PassengerId'], axis=1)\n",
    "y = train['Survived']\n",
    "\n",
    "# Step 2: Define model\n",
    "best_rf = RandomForestClassifier(n_estimators=100, random_state=42)\n",
    "\n",
    "# Step 3: Retrain model\n",
    "best_rf.fit(X, y)\n",
    "\n",
    "# Step 4: Prepare test set\n",
    "X_test_final = test.drop('PassengerId', axis=1)\n",
    "\n",
    "# Step 5: Predict\n",
    "predictions = best_rf.predict(X_test_final)\n",
    "\n",
    "# Step 6: Create submission\n",
    "submission = pd.DataFrame({\n",
    "    'PassengerId': test['PassengerId'],\n",
    "    'Survived': predictions\n",
    "})\n",
    "submission.to_csv('submission.csv', index=False)\n"
   ]
  },
  {
   "cell_type": "markdown",
   "id": "c88e6cfd",
   "metadata": {
    "papermill": {
     "duration": null,
     "end_time": null,
     "exception": null,
     "start_time": null,
     "status": "pending"
    },
    "tags": []
   },
   "source": [
    "# Step 9: Hyperparameter Tuning with GridSearchCV"
   ]
  },
  {
   "cell_type": "code",
   "execution_count": null,
   "id": "189ceb12",
   "metadata": {
    "execution": {
     "iopub.execute_input": "2025-06-29T14:08:19.136955Z",
     "iopub.status.busy": "2025-06-29T14:08:19.136616Z",
     "iopub.status.idle": "2025-06-29T14:12:04.696355Z",
     "shell.execute_reply": "2025-06-29T14:12:04.695459Z",
     "shell.execute_reply.started": "2025-06-29T14:08:19.136924Z"
    },
    "papermill": {
     "duration": null,
     "end_time": null,
     "exception": null,
     "start_time": null,
     "status": "pending"
    },
    "tags": []
   },
   "outputs": [],
   "source": [
    "rf = RandomForestClassifier(random_state=42)\n",
    "\n",
    "param_grid = {\n",
    "    'n_estimators': [100, 300, 500],\n",
    "    'max_depth': [4, 6, 8, None],\n",
    "    'min_samples_split': [2, 5, 10],\n",
    "    'min_samples_leaf': [1, 2, 4],\n",
    "    'bootstrap': [True, False]\n",
    "}\n",
    "\n",
    "grid_search = GridSearchCV(estimator=rf, param_grid=param_grid, \n",
    "                           cv=5, n_jobs=-1, verbose=1, scoring='accuracy')\n",
    "\n",
    "grid_search.fit(X, y)\n",
    "\n",
    "print(f\"Best params: {grid_search.best_params_}\")\n",
    "print(f\"Best CV score: {grid_search.best_score_:.4f}\")"
   ]
  },
  {
   "cell_type": "markdown",
   "id": "f5be9595",
   "metadata": {
    "papermill": {
     "duration": null,
     "end_time": null,
     "exception": null,
     "start_time": null,
     "status": "pending"
    },
    "tags": []
   },
   "source": [
    "# Step 10: Train Final Model with Best Params"
   ]
  },
  {
   "cell_type": "code",
   "execution_count": null,
   "id": "afe2ff14",
   "metadata": {
    "execution": {
     "iopub.execute_input": "2025-06-29T14:13:15.170376Z",
     "iopub.status.busy": "2025-06-29T14:13:15.169955Z",
     "iopub.status.idle": "2025-06-29T14:13:19.851720Z",
     "shell.execute_reply": "2025-06-29T14:13:19.850800Z",
     "shell.execute_reply.started": "2025-06-29T14:13:15.170346Z"
    },
    "papermill": {
     "duration": null,
     "end_time": null,
     "exception": null,
     "start_time": null,
     "status": "pending"
    },
    "tags": []
   },
   "outputs": [],
   "source": [
    "best_rf = grid_search.best_estimator_\n",
    "\n",
    "# Optional: cross-validation score\n",
    "cv_scores = cross_val_score(best_rf, X, y, cv=5)\n",
    "print(f\"CV Accuracy: {np.mean(cv_scores):.4f} ± {np.std(cv_scores):.4f}\")\n",
    "\n",
    "# Fit on full training data\n",
    "best_rf.fit(X, y)"
   ]
  },
  {
   "cell_type": "markdown",
   "id": "576fdf42",
   "metadata": {
    "papermill": {
     "duration": null,
     "end_time": null,
     "exception": null,
     "start_time": null,
     "status": "pending"
    },
    "tags": []
   },
   "source": [
    "# Step 11: Predict & Create Submission"
   ]
  },
  {
   "cell_type": "code",
   "execution_count": null,
   "id": "5301d1a0",
   "metadata": {
    "execution": {
     "iopub.execute_input": "2025-06-29T14:13:21.420715Z",
     "iopub.status.busy": "2025-06-29T14:13:21.420410Z",
     "iopub.status.idle": "2025-06-29T14:13:21.498359Z",
     "shell.execute_reply": "2025-06-29T14:13:21.497567Z",
     "shell.execute_reply.started": "2025-06-29T14:13:21.420695Z"
    },
    "papermill": {
     "duration": null,
     "end_time": null,
     "exception": null,
     "start_time": null,
     "status": "pending"
    },
    "tags": []
   },
   "outputs": [],
   "source": [
    "predictions = best_rf.predict(X_test_final)\n",
    "\n",
    "submission = pd.DataFrame({\n",
    "    'PassengerId': test['PassengerId'],\n",
    "    'Survived': predictions\n",
    "})\n",
    "\n",
    "submission.to_csv('submission.csv', index=False)\n",
    "submission.head()\n",
    "\n"
   ]
  }
 ],
 "metadata": {
  "kaggle": {
   "accelerator": "none",
   "dataSources": [
    {
     "databundleVersionId": 26502,
     "sourceId": 3136,
     "sourceType": "competition"
    }
   ],
   "dockerImageVersionId": 31012,
   "isGpuEnabled": false,
   "isInternetEnabled": false,
   "language": "python",
   "sourceType": "notebook"
  },
  "kernelspec": {
   "display_name": "Python 3",
   "language": "python",
   "name": "python3"
  },
  "language_info": {
   "codemirror_mode": {
    "name": "ipython",
    "version": 3
   },
   "file_extension": ".py",
   "mimetype": "text/x-python",
   "name": "python",
   "nbconvert_exporter": "python",
   "pygments_lexer": "ipython3",
   "version": "3.11.11"
  },
  "papermill": {
   "default_parameters": {},
   "duration": 12.918601,
   "end_time": "2025-06-29T14:14:12.442436",
   "environment_variables": {},
   "exception": true,
   "input_path": "__notebook__.ipynb",
   "output_path": "__notebook__.ipynb",
   "parameters": {},
   "start_time": "2025-06-29T14:13:59.523835",
   "version": "2.6.0"
  }
 },
 "nbformat": 4,
 "nbformat_minor": 5
}
